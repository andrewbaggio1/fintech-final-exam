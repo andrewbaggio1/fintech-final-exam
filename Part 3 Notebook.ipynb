{
 "cells": [
  {
   "cell_type": "markdown",
   "metadata": {},
   "source": [
    "1. Financial technology may benefit or harm consumers. Utilize the arguments, facts, or examples discussed in our FIN 450F/550F class to justify both views. Include proper citations in your answer.\n",
    "\n",
    "One of the biggest concerns in Fintech is data security and privacy. In Prof Kong’s slides on the topic, it’s mentioned that Fintech companies collect and use large amounts of customer data. This is because companies have strong incentives to track and monitor consumers’ online activities as extensively as possible. More variables leads to better analytics, which can help predict customer trends or better define a company’s health.\n",
    "\n",
    "A downside of this extensive tracking is that it increases the risk for third-party and cyber attacks. In July 2019, Capital One bank reported that a former AWS employee had gained access and stole data from 100 million U.S. bank customers, including accessing 140,000 Social Security numbers and 80,000 bank accounts (Prof Kong’s slides on data security and privacy). This data leak had dangerous implications for Capital One’s operations and customer image. \n",
    "\n",
    "And the FTC’s data shows that consumers reported losing nearly $8.8 billion to scams in 2022 (https://www.ftc.gov/news-events/news/press-releases/2023/02/new-ftc-data-show-consumers-reported-losing-nearly-88-billion-scams-2022). Scams become much more effective when privacy is not effectively guaranteed by fintech companies and bad actors can gain access to potentially sensitive and useful customer data.\n",
    "\n",
    "Despite this concern, Fintech companies still offer massive conveniences to their customers that effectively utilize novel financing opportunities. A great example of this is “buy now, pay later”, or BNPL loans. A BNPL loan is a short-term loan that allows consumers to purchase items immediately and pay for them over time, typically in four or fewer interest-free installments (Prof Kong’s slides on BPNL). BPNL is unique to Fintech because a loan like this cannot be taken out so conveniently in a cash society. By using an app to pay, the loan is automatically recognized on the app and enforced by the customer’s linked bank account. BNPL can also take the stress off low-income customers by allowing them to pay for an expensive purchase in interest-free installments, giving them time to earn the money to pay for their purchase through their job.\n",
    "\n",
    "Overall, Fintech is a nuanced sector. It poses risks for consumers, from data security to privacy; however, the convenience Fintech companies offer through innovations like BNPL is unmistakable."
   ]
  },
  {
   "cell_type": "markdown",
   "metadata": {},
   "source": [
    "2. Explain the tradeoff of Type I and Type II errors in the context of default prediction.\n",
    "\n",
    "A Type I error, also known as a false positive, is when a prediction model incorrectly predicts that a borrower will default when they actually would not have. This would wrongly classify them as high-risk. This type of error can be very costly for financial institutions in terms of lost opportunities, as a bank might deny a loan to a potentially profitable customer based on this incorrect assessment and miss out on the interest income that could have been earned.\n",
    "\n",
    "A Type II error, also known as a false negative, happens when a model fails to identify a borrower who will default, classifying them as low risk instead. This error can be more directly costly than a Type I error because it leads to actual financial losses. In this case, the bank would extend credit under the assumption that it will be repaid; instead, the loan defaults, and the bank incurs a loss of the principal loan amount and any expected interest.\n",
    "\n",
    "The tradeoff between these errors occurs because reducing one type of error can sometimes increase the other. For example, if a bank makes its credit scoring criteria more strict (to decrease the likelihood of lending to someone who might default), it simultaneously increases the chance of rejecting applicants who would have repaid their loans.\n",
    "\n",
    "Banks that want to minimize risk will accept higher Type I errors to reduce Type II errors, especially in an economy where default rates are high. If the economy is stable, however, a bank might choose to accept higher Type II errors to expand its customer base, increase market share, or enhance customer satisfaction."
   ]
  }
 ],
 "metadata": {
  "language_info": {
   "name": "python"
  }
 },
 "nbformat": 4,
 "nbformat_minor": 2
}
