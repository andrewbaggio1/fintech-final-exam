{
 "cells": [
  {
   "cell_type": "code",
   "execution_count": 17,
   "metadata": {},
   "outputs": [],
   "source": [
    "import pandas as pd\n",
    "\n",
    "# Loading the CSV file into a DataFrame\n",
    "state = pd.read_csv('./state.csv')"
   ]
  },
  {
   "cell_type": "code",
   "execution_count": 18,
   "metadata": {},
   "outputs": [
    {
     "data": {
      "text/html": [
       "<div>\n",
       "<style scoped>\n",
       "    .dataframe tbody tr th:only-of-type {\n",
       "        vertical-align: middle;\n",
       "    }\n",
       "\n",
       "    .dataframe tbody tr th {\n",
       "        vertical-align: top;\n",
       "    }\n",
       "\n",
       "    .dataframe thead th {\n",
       "        text-align: right;\n",
       "    }\n",
       "</style>\n",
       "<table border=\"1\" class=\"dataframe\">\n",
       "  <thead>\n",
       "    <tr style=\"text-align: right;\">\n",
       "      <th></th>\n",
       "      <th>state</th>\n",
       "      <th>year</th>\n",
       "      <th>unemprate</th>\n",
       "      <th>health_exp</th>\n",
       "      <th>income</th>\n",
       "      <th>pop</th>\n",
       "      <th>legislation_year</th>\n",
       "    </tr>\n",
       "  </thead>\n",
       "  <tbody>\n",
       "    <tr>\n",
       "      <th>0</th>\n",
       "      <td>Alabama</td>\n",
       "      <td>2000</td>\n",
       "      <td>4.6</td>\n",
       "      <td>3932.0</td>\n",
       "      <td>24338</td>\n",
       "      <td>4452173</td>\n",
       "      <td>0</td>\n",
       "    </tr>\n",
       "    <tr>\n",
       "      <th>1</th>\n",
       "      <td>Alabama</td>\n",
       "      <td>2001</td>\n",
       "      <td>5.1</td>\n",
       "      <td>4168.0</td>\n",
       "      <td>25104</td>\n",
       "      <td>4467634</td>\n",
       "      <td>0</td>\n",
       "    </tr>\n",
       "    <tr>\n",
       "      <th>2</th>\n",
       "      <td>Alabama</td>\n",
       "      <td>2002</td>\n",
       "      <td>5.9</td>\n",
       "      <td>4511.0</td>\n",
       "      <td>25712</td>\n",
       "      <td>4480089</td>\n",
       "      <td>0</td>\n",
       "    </tr>\n",
       "    <tr>\n",
       "      <th>3</th>\n",
       "      <td>Alabama</td>\n",
       "      <td>2003</td>\n",
       "      <td>6.0</td>\n",
       "      <td>4994.0</td>\n",
       "      <td>26693</td>\n",
       "      <td>4503491</td>\n",
       "      <td>0</td>\n",
       "    </tr>\n",
       "    <tr>\n",
       "      <th>4</th>\n",
       "      <td>Alabama</td>\n",
       "      <td>2004</td>\n",
       "      <td>5.7</td>\n",
       "      <td>5252.0</td>\n",
       "      <td>28415</td>\n",
       "      <td>4530729</td>\n",
       "      <td>0</td>\n",
       "    </tr>\n",
       "  </tbody>\n",
       "</table>\n",
       "</div>"
      ],
      "text/plain": [
       "     state  year  unemprate  health_exp  income      pop  legislation_year\n",
       "0  Alabama  2000        4.6      3932.0   24338  4452173                 0\n",
       "1  Alabama  2001        5.1      4168.0   25104  4467634                 0\n",
       "2  Alabama  2002        5.9      4511.0   25712  4480089                 0\n",
       "3  Alabama  2003        6.0      4994.0   26693  4503491                 0\n",
       "4  Alabama  2004        5.7      5252.0   28415  4530729                 0"
      ]
     },
     "execution_count": 18,
     "metadata": {},
     "output_type": "execute_result"
    }
   ],
   "source": [
    "# Display the first few rows\n",
    "state.head()"
   ]
  },
  {
   "cell_type": "code",
   "execution_count": 19,
   "metadata": {},
   "outputs": [
    {
     "name": "stdout",
     "output_type": "stream",
     "text": [
      "Descriptive Statistics for 'income':\n",
      "count      816.000000\n",
      "mean     38340.616422\n",
      "std       8691.436370\n",
      "min      21640.000000\n",
      "25%      32159.250000\n",
      "50%      37117.500000\n",
      "75%      43252.750000\n",
      "max      75457.000000\n",
      "Name: income, dtype: float64\n",
      "\n",
      "Descriptive Statistics for 'pop':\n",
      "count    8.160000e+02\n",
      "mean     5.924434e+06\n",
      "std      6.629947e+06\n",
      "min      4.943000e+05\n",
      "25%      1.592969e+06\n",
      "50%      4.148199e+06\n",
      "75%      6.660362e+06\n",
      "max      3.899394e+07\n",
      "Name: pop, dtype: float64\n",
      "\n",
      "Descriptive Statistics for 'health_exp':\n",
      "count      765.000000\n",
      "mean      6374.501961\n",
      "std       1591.084847\n",
      "min       3031.000000\n",
      "25%       5149.000000\n",
      "50%       6292.000000\n",
      "75%       7406.000000\n",
      "max      11944.000000\n",
      "Name: health_exp, dtype: float64\n"
     ]
    }
   ],
   "source": [
    "# Descriptive statistics for 'income', 'pop', 'health_exp'\n",
    "print(\"Descriptive Statistics for 'income':\")\n",
    "print(state['income'].describe())\n",
    "\n",
    "print(\"\\nDescriptive Statistics for 'pop':\")\n",
    "print(state['pop'].describe())\n",
    "\n",
    "print(\"\\nDescriptive Statistics for 'health_exp':\")\n",
    "print(state['health_exp'].describe())"
   ]
  },
  {
   "cell_type": "code",
   "execution_count": 20,
   "metadata": {},
   "outputs": [
    {
     "name": "stdout",
     "output_type": "stream",
     "text": [
      "       state  year  legislation_year  index\n",
      "0    Alabama  2000                 0      0\n",
      "1    Alabama  2001                 0      0\n",
      "2    Alabama  2002                 0      0\n",
      "3    Alabama  2003                 0      0\n",
      "4    Alabama  2004                 0      0\n",
      "..       ...   ...               ...    ...\n",
      "811  Wyoming  2011                 0      0\n",
      "812  Wyoming  2012                 0      0\n",
      "813  Wyoming  2013                 0      0\n",
      "814  Wyoming  2014                 0      0\n",
      "815  Wyoming  2015                 0      0\n",
      "\n",
      "[816 rows x 4 columns]\n"
     ]
    }
   ],
   "source": [
    "# Generate 'index'\n",
    "state['index'] = state.groupby('state')['legislation_year'].cumsum()\n",
    "\n",
    "print(state[['state', 'year', 'legislation_year', 'index']])"
   ]
  },
  {
   "cell_type": "code",
   "execution_count": 21,
   "metadata": {},
   "outputs": [
    {
     "name": "stdout",
     "output_type": "stream",
     "text": [
      "       state  year  legislation_year  index  post\n",
      "0    Alabama  2000                 0      0     0\n",
      "1    Alabama  2001                 0      0     0\n",
      "2    Alabama  2002                 0      0     0\n",
      "3    Alabama  2003                 0      0     0\n",
      "4    Alabama  2004                 0      0     0\n",
      "..       ...   ...               ...    ...   ...\n",
      "811  Wyoming  2011                 0      0     0\n",
      "812  Wyoming  2012                 0      0     0\n",
      "813  Wyoming  2013                 0      0     0\n",
      "814  Wyoming  2014                 0      0     0\n",
      "815  Wyoming  2015                 0      0     0\n",
      "\n",
      "[816 rows x 5 columns]\n"
     ]
    }
   ],
   "source": [
    "# The 'post' variable is 0 before the first legislation change and 1 after\n",
    "state['post'] = (state['index'] > 0).astype(int)\n",
    "\n",
    "print(state[['state', 'year', 'legislation_year', 'index', 'post']])"
   ]
  },
  {
   "cell_type": "code",
   "execution_count": 22,
   "metadata": {},
   "outputs": [
    {
     "name": "stdout",
     "output_type": "stream",
     "text": [
      "       state  year  legislation_year  index  post  treatment\n",
      "0    Alabama  2000                 0      0     0          0\n",
      "1    Alabama  2001                 0      0     0          0\n",
      "2    Alabama  2002                 0      0     0          0\n",
      "3    Alabama  2003                 0      0     0          0\n",
      "4    Alabama  2004                 0      0     0          0\n",
      "..       ...   ...               ...    ...   ...        ...\n",
      "811  Wyoming  2011                 0      0     0          0\n",
      "812  Wyoming  2012                 0      0     0          0\n",
      "813  Wyoming  2013                 0      0     0          0\n",
      "814  Wyoming  2014                 0      0     0          0\n",
      "815  Wyoming  2015                 0      0     0          0\n",
      "\n",
      "[816 rows x 6 columns]\n"
     ]
    }
   ],
   "source": [
    "# The 'treatment' variable changes based on whether any 'post' change occurs\n",
    "# The max of 'post' in a state group is 1\n",
    "state['treatment'] = state.groupby('state')['post'].transform('max')\n",
    "\n",
    "print(state[['state', 'year', 'legislation_year', 'index', 'post', 'treatment']])"
   ]
  },
  {
   "cell_type": "code",
   "execution_count": 23,
   "metadata": {},
   "outputs": [
    {
     "name": "stdout",
     "output_type": "stream",
     "text": [
      "   consumer_id    state  year      income_w2    total_loan  credit_score  \\\n",
      "0        31621  Alabama  2004   41176.217672  31613.421767           784   \n",
      "1         1339  Alabama  2004   50691.125526  33264.912553           644   \n",
      "2        76632  Alabama  2004  141635.415707  42209.341571           674   \n",
      "3       444128  Alabama  2004   75875.419571  34768.341957           847   \n",
      "4       422426  Alabama  2005   66274.386758  35062.238676           597   \n",
      "\n",
      "   payday_loan  \n",
      "0            0  \n",
      "1            0  \n",
      "2            0  \n",
      "3            0  \n",
      "4          200  \n"
     ]
    }
   ],
   "source": [
    "import pandas as pd\n",
    "\n",
    "# Loading the Excel file into a DataFrame\n",
    "consumer_credit = pd.read_excel('./consumer_credit.xlsx')\n",
    "\n",
    "print(consumer_credit.head())"
   ]
  },
  {
   "cell_type": "code",
   "execution_count": 24,
   "metadata": {},
   "outputs": [
    {
     "name": "stdout",
     "output_type": "stream",
     "text": [
      "        credit_score     income_w2  payday_loan    total_loan\n",
      "mean      640.930801  66110.898680   132.786296  34415.417654\n",
      "median    640.000000  61855.622190   200.000000  33915.473788\n",
      "std       100.668239  43525.368192   162.277270   4263.061894\n"
     ]
    }
   ],
   "source": [
    "# Calculate summary statistics\n",
    "summary_stats = consumer_credit[['credit_score', 'income_w2', 'payday_loan', 'total_loan']].describe()\n",
    "\n",
    "# describe() returns a DataFrame with statistics. I filter it to include only 'mean', 'median', and 'std'\n",
    "summary_stats = summary_stats.loc[['mean', '50%', 'std']]  # '50%' is the median in describe()\n",
    "\n",
    "# Rename the '50%' index to 'median'\n",
    "summary_stats.rename(index={'50%': 'median'}, inplace=True)\n",
    "\n",
    "print(summary_stats)"
   ]
  },
  {
   "cell_type": "code",
   "execution_count": 25,
   "metadata": {},
   "outputs": [
    {
     "name": "stdout",
     "output_type": "stream",
     "text": [
      "     total_loan  log_total_loan  payday_loan  log_payday_loan\n",
      "0  31613.421767       10.361337            0         0.000000\n",
      "1  33264.912553       10.412258            0         0.000000\n",
      "2  42209.341571       10.650397            0         0.000000\n",
      "3  34768.341957       10.456463            0         0.000000\n",
      "4  35062.238676       10.464880          200         5.298317\n"
     ]
    }
   ],
   "source": [
    "import numpy as np\n",
    "\n",
    "# log of total traditional loan amount\n",
    "consumer_credit['log_total_loan'] = consumer_credit['total_loan'].apply(lambda x: np.log(x) if x > 0 else 0)\n",
    "\n",
    "# log of payday loan amount\n",
    "consumer_credit['log_payday_loan'] = consumer_credit['payday_loan'].apply(lambda x: np.log(x) if x > 0 else 0)\n",
    "\n",
    "print(consumer_credit[['total_loan', 'log_total_loan', 'payday_loan', 'log_payday_loan']].head())"
   ]
  },
  {
   "cell_type": "code",
   "execution_count": 26,
   "metadata": {},
   "outputs": [],
   "source": [
    "# Create income quintiles\n",
    "consumer_credit['income_quintile'] = consumer_credit.groupby('year')['income_w2'].transform(\n",
    "    lambda x: pd.qcut(x, 5, labels=False) + 1)"
   ]
  },
  {
   "cell_type": "code",
   "execution_count": 27,
   "metadata": {},
   "outputs": [
    {
     "data": {
      "image/png": "[encoded data removed]",
      "text/plain": [
       "<Figure size 1000x600 with 1 Axes>"
      ]
     },
     "metadata": {},
     "output_type": "display_data"
    }
   ],
   "source": [
    "import matplotlib.pyplot as plt\n",
    "\n",
    "# Median total loan amount for each quintile\n",
    "median_loans = consumer_credit.groupby(['year', 'income_quintile'])['total_loan'].median().reset_index()\n",
    "\n",
    "# Pivot the data (years as columns)\n",
    "pivot_table = median_loans.pivot(index='income_quintile', columns='year', values='total_loan')\n",
    "\n",
    "pivot_table.plot(kind='bar', figsize=(10, 6))\n",
    "plt.title('Median Total Traditional Loan Amount by Income Quintile')\n",
    "plt.xlabel('Income Quintile')\n",
    "plt.ylabel('Median Total Loan Amount ($)')\n",
    "plt.xticks(rotation=0)  # quintile labels horizontal\n",
    "plt.legend(title='Year')\n",
    "plt.show()\n"
   ]
  },
  {
   "cell_type": "code",
   "execution_count": 28,
   "metadata": {},
   "outputs": [
    {
     "name": "stdout",
     "output_type": "stream",
     "text": [
      "   consumer_id    state  year      income_w2    total_loan  credit_score  \\\n",
      "0        31621  Alabama  2004   41176.217672  31613.421767           784   \n",
      "1         1339  Alabama  2004   50691.125526  33264.912553           644   \n",
      "2        76632  Alabama  2004  141635.415707  42209.341571           674   \n",
      "3       444128  Alabama  2004   75875.419571  34768.341957           847   \n",
      "4       422426  Alabama  2005   66274.386758  35062.238676           597   \n",
      "\n",
      "   payday_loan  log_total_loan  log_payday_loan  income_quintile  unemprate  \\\n",
      "0            0       10.361337         0.000000                2        5.7   \n",
      "1            0       10.412258         0.000000                2        5.7   \n",
      "2            0       10.650397         0.000000                5        5.7   \n",
      "3            0       10.456463         0.000000                4        5.7   \n",
      "4          200       10.464880         5.298317                3        4.5   \n",
      "\n",
      "   health_exp  income      pop  legislation_year  index  post  treatment  \n",
      "0      5252.0   28415  4530729                 0      0     0          0  \n",
      "1      5252.0   28415  4530729                 0      0     0          0  \n",
      "2      5252.0   28415  4530729                 0      0     0          0  \n",
      "3      5252.0   28415  4530729                 0      0     0          0  \n",
      "4      5545.0   29832  4569805                 0      0     0          0  \n"
     ]
    }
   ],
   "source": [
    "# Merge the DataFrames\n",
    "merged_df = pd.merge(consumer_credit, state, on=['state', 'year'], how='inner')\n",
    "\n",
    "print(merged_df.head())"
   ]
  },
  {
   "cell_type": "code",
   "execution_count": 29,
   "metadata": {},
   "outputs": [
    {
     "name": "stdout",
     "output_type": "stream",
     "text": [
      "Regression Results for Credit Score:\n",
      "                            OLS Regression Results                            \n",
      "==============================================================================\n",
      "Dep. Variable:           credit_score   R-squared:                       0.025\n",
      "Model:                            OLS   Adj. R-squared:                  0.024\n",
      "Method:                 Least Squares   F-statistic:                     37.04\n",
      "Date:                Tue, 07 May 2024   Prob (F-statistic):           1.29e-16\n",
      "Time:                        04:06:54   Log-Likelihood:                -17742.\n",
      "No. Observations:                2948   AIC:                         3.549e+04\n",
      "Df Residuals:                    2945   BIC:                         3.551e+04\n",
      "Df Model:                           2                                         \n",
      "Covariance Type:            nonrobust                                         \n",
      "==============================================================================\n",
      "                 coef    std err          t      P>|t|      [0.025      0.975]\n",
      "------------------------------------------------------------------------------\n",
      "const        641.3906      3.560    180.159      0.000     634.410     648.371\n",
      "index        -21.2371      2.686     -7.907      0.000     -26.503     -15.971\n",
      "income_w2      0.0001   4.21e-05      3.270      0.001    5.51e-05       0.000\n",
      "==============================================================================\n",
      "Omnibus:                        0.559   Durbin-Watson:                   2.068\n",
      "Prob(Omnibus):                  0.756   Jarque-Bera (JB):                0.492\n",
      "Skew:                          -0.017   Prob(JB):                        0.782\n",
      "Kurtosis:                       3.053   Cond. No.                     1.63e+05\n",
      "==============================================================================\n",
      "\n",
      "Notes:\n",
      "[1] Standard Errors assume that the covariance matrix of the errors is correctly specified.\n",
      "[2] The condition number is large, 1.63e+05. This might indicate that there are\n",
      "strong multicollinearity or other numerical problems.\n",
      "\n",
      "Regression Results for Log of Total Traditional Loan Amount:\n",
      "                            OLS Regression Results                            \n",
      "==============================================================================\n",
      "Dep. Variable:         log_total_loan   R-squared:                       0.984\n",
      "Model:                            OLS   Adj. R-squared:                  0.984\n",
      "Method:                 Least Squares   F-statistic:                 9.262e+04\n",
      "Date:                Tue, 07 May 2024   Prob (F-statistic):               0.00\n",
      "Time:                        04:06:54   Log-Likelihood:                 8170.1\n",
      "No. Observations:                2948   AIC:                        -1.633e+04\n",
      "Df Residuals:                    2945   BIC:                        -1.632e+04\n",
      "Df Model:                           2                                         \n",
      "Covariance Type:            nonrobust                                         \n",
      "==============================================================================\n",
      "                 coef    std err          t      P>|t|      [0.025      0.975]\n",
      "------------------------------------------------------------------------------\n",
      "const         10.2753      0.001   1.89e+04      0.000      10.274      10.276\n",
      "index         -0.0334      0.000    -81.630      0.000      -0.034      -0.033\n",
      "income_w2   2.701e-06   6.41e-09    421.169      0.000    2.69e-06    2.71e-06\n",
      "==============================================================================\n",
      "Omnibus:                       21.669   Durbin-Watson:                   2.072\n",
      "Prob(Omnibus):                  0.000   Jarque-Bera (JB):               25.909\n",
      "Skew:                          -0.135   Prob(JB):                     2.37e-06\n",
      "Kurtosis:                       3.372   Cond. No.                     1.63e+05\n",
      "==============================================================================\n",
      "\n",
      "Notes:\n",
      "[1] Standard Errors assume that the covariance matrix of the errors is correctly specified.\n",
      "[2] The condition number is large, 1.63e+05. This might indicate that there are\n",
      "strong multicollinearity or other numerical problems.\n",
      "\n",
      "Regression Results for Log of Payday Loan Amount:\n",
      "                            OLS Regression Results                            \n",
      "==============================================================================\n",
      "Dep. Variable:        log_payday_loan   R-squared:                       0.009\n",
      "Model:                            OLS   Adj. R-squared:                  0.008\n",
      "Method:                 Least Squares   F-statistic:                     12.88\n",
      "Date:                Tue, 07 May 2024   Prob (F-statistic):           2.69e-06\n",
      "Time:                        04:06:54   Log-Likelihood:                -6957.3\n",
      "No. Observations:                2948   AIC:                         1.392e+04\n",
      "Df Residuals:                    2945   BIC:                         1.394e+04\n",
      "Df Model:                           2                                         \n",
      "Covariance Type:            nonrobust                                         \n",
      "==============================================================================\n",
      "                 coef    std err          t      P>|t|      [0.025      0.975]\n",
      "------------------------------------------------------------------------------\n",
      "const          3.4567      0.092     37.664      0.000       3.277       3.637\n",
      "index          0.2757      0.069      3.982      0.000       0.140       0.411\n",
      "income_w2  -3.344e-06   1.09e-06     -3.081      0.002   -5.47e-06   -1.22e-06\n",
      "==============================================================================\n",
      "Omnibus:                    13712.265   Durbin-Watson:                   2.103\n",
      "Prob(Omnibus):                  0.000   Jarque-Bera (JB):              481.264\n",
      "Skew:                          -0.528   Prob(JB):                    3.13e-105\n",
      "Kurtosis:                       1.325   Cond. No.                     1.63e+05\n",
      "==============================================================================\n",
      "\n",
      "Notes:\n",
      "[1] Standard Errors assume that the covariance matrix of the errors is correctly specified.\n",
      "[2] The condition number is large, 1.63e+05. This might indicate that there are\n",
      "strong multicollinearity or other numerical problems.\n"
     ]
    }
   ],
   "source": [
    "import statsmodels.api as sm\n",
    "\n",
    "# Independent variables\n",
    "X = sm.add_constant(merged_df[['index', 'income_w2']])  # include W2 income as a control variable\n",
    "\n",
    "# Dependent variables\n",
    "y_credit_score = merged_df['credit_score']\n",
    "y_log_total_loan = merged_df['log_total_loan']\n",
    "y_log_payday_loan = merged_df['log_payday_loan']\n",
    "\n",
    "# Create OLS regression models\n",
    "model_credit_score = sm.OLS(y_credit_score, X).fit()\n",
    "model_log_total_loan = sm.OLS(y_log_total_loan, X).fit()\n",
    "model_log_payday_loan = sm.OLS(y_log_payday_loan, X).fit()\n",
    "\n",
    "print(\"Regression Results for Credit Score:\")\n",
    "print(model_credit_score.summary())\n",
    "print(\"\\nRegression Results for Log of Total Traditional Loan Amount:\")\n",
    "print(model_log_total_loan.summary())\n",
    "print(\"\\nRegression Results for Log of Payday Loan Amount:\")\n",
    "print(model_log_payday_loan.summary())\n"
   ]
  },
  {
   "cell_type": "code",
   "execution_count": 30,
   "metadata": {},
   "outputs": [
    {
     "name": "stdout",
     "output_type": "stream",
     "text": [
      "                          IV2SLS Regression Results                           \n",
      "==============================================================================\n",
      "Dep. Variable:        log_payday_loan   R-squared:                       0.009\n",
      "Model:                         IV2SLS   Adj. R-squared:                  0.008\n",
      "Method:                     Two Stage   F-statistic:                     12.88\n",
      "                        Least Squares   Prob (F-statistic):           2.69e-06\n",
      "Date:                Tue, 07 May 2024                                         \n",
      "Time:                        04:06:54                                         \n",
      "No. Observations:                2948                                         \n",
      "Df Residuals:                    2945                                         \n",
      "Df Model:                           2                                         \n",
      "=========================================================================================\n",
      "                            coef    std err          t      P>|t|      [0.025      0.975]\n",
      "-----------------------------------------------------------------------------------------\n",
      "const                    88.2922     21.274      4.150      0.000      46.580     130.005\n",
      "fitted_log_total_loan    -8.2562      2.073     -3.982      0.000     -12.322      -4.191\n",
      "income_w2              1.895e-05   5.72e-06      3.313      0.001    7.73e-06    3.02e-05\n",
      "==============================================================================\n",
      "Omnibus:                    13712.265   Durbin-Watson:                   2.103\n",
      "Prob(Omnibus):                  0.000   Jarque-Bera (JB):              481.264\n",
      "Skew:                          -0.528   Prob(JB):                    3.13e-105\n",
      "Kurtosis:                       1.325   Cond. No.                     3.59e+07\n",
      "==============================================================================\n"
     ]
    }
   ],
   "source": [
    "from statsmodels.sandbox.regression.gmm import IV2SLS\n",
    "\n",
    "# Stage 1\n",
    "X1 = sm.add_constant(merged_df[['index', 'income_w2']])\n",
    "y1 = merged_df['log_total_loan']\n",
    "first_stage = sm.OLS(y1, X1).fit()\n",
    "merged_df['fitted_log_total_loan'] = first_stage.fittedvalues\n",
    "\n",
    "# Stage 2\n",
    "X2 = sm.add_constant(merged_df[['fitted_log_total_loan', 'income_w2']])\n",
    "y2 = merged_df['log_payday_loan']\n",
    "second_stage = IV2SLS(y2, X2, instrument=X1).fit()\n",
    "\n",
    "print(second_stage.summary())\n"
   ]
  },
  {
   "cell_type": "code",
   "execution_count": 31,
   "metadata": {},
   "outputs": [
    {
     "name": "stdout",
     "output_type": "stream",
     "text": [
      "                            OLS Regression Results                            \n",
      "==============================================================================\n",
      "Dep. Variable:        log_payday_loan   R-squared:                       0.009\n",
      "Model:                            OLS   Adj. R-squared:                  0.008\n",
      "Method:                 Least Squares   F-statistic:                     8.641\n",
      "Date:                Tue, 07 May 2024   Prob (F-statistic):           1.04e-05\n",
      "Time:                        04:06:54   Log-Likelihood:                -6957.2\n",
      "No. Observations:                2948   AIC:                         1.392e+04\n",
      "Df Residuals:                    2944   BIC:                         1.395e+04\n",
      "Df Model:                           3                                         \n",
      "Covariance Type:            nonrobust                                         \n",
      "==================================================================================\n",
      "                     coef    std err          t      P>|t|      [0.025      0.975]\n",
      "----------------------------------------------------------------------------------\n",
      "const              3.4427      0.096     35.846      0.000       3.254       3.631\n",
      "treatment         -0.0096      0.169     -0.057      0.955      -0.341       0.321\n",
      "post               0.2027      0.088      2.304      0.021       0.030       0.375\n",
      "treatment_post     0.2027      0.088      2.304      0.021       0.030       0.375\n",
      "income_w2      -3.319e-06   1.09e-06     -3.057      0.002   -5.45e-06   -1.19e-06\n",
      "==============================================================================\n",
      "Omnibus:                    13721.511   Durbin-Watson:                   2.103\n",
      "Prob(Omnibus):                  0.000   Jarque-Bera (JB):              481.174\n",
      "Skew:                          -0.528   Prob(JB):                    3.27e-105\n",
      "Kurtosis:                       1.326   Cond. No.                     9.64e+18\n",
      "==============================================================================\n",
      "\n",
      "Notes:\n",
      "[1] Standard Errors assume that the covariance matrix of the errors is correctly specified.\n",
      "[2] The smallest eigenvalue is 1.99e-25. This might indicate that there are\n",
      "strong multicollinearity problems or that the design matrix is singular.\n"
     ]
    }
   ],
   "source": [
    "# Creating the interaction term for DID\n",
    "merged_df['treatment_post'] = merged_df['treatment'] * merged_df['post']\n",
    "\n",
    "# Model variables\n",
    "X_did = sm.add_constant(merged_df[['treatment', 'post', 'treatment_post', 'income_w2']])\n",
    "y_did = merged_df['log_payday_loan']\n",
    "\n",
    "# Create the DID regression model\n",
    "model_did = sm.OLS(y_did, X_did).fit()\n",
    "\n",
    "print(model_did.summary())"
   ]
  },
  {
   "cell_type": "markdown",
   "metadata": {},
   "source": [
    "The DID regression shows a positive and significant interaction term for 'treatment_post', indicating that stricter debt collection laws lead to an increase in payday loan usage. This finding suggests that when it's harder to get or manage traditional loans, people might turn to payday loans, which generally don't involve third-party debt collectors. This shift demonstrates how changes in laws affecting credit card companies and other traditional lenders can influence consumer behavior, driving them toward alternative financial options. Both the DID and 2SLS analyses consistently show that tougher regulations on traditional loans are associated with more payday loan usage."
   ]
  },
  {
   "cell_type": "code",
   "execution_count": 32,
   "metadata": {},
   "outputs": [
    {
     "name": "stdout",
     "output_type": "stream",
     "text": [
      "  Quintile  Coefficient   Std Err         t     P>|t|\n",
      "0        1     0.245577  0.193766  1.267389  0.205516\n",
      "1        2     0.131969  0.185596  0.711056  0.477334\n",
      "2        3     0.380517  0.199573  1.906660  0.057056\n",
      "3        4     0.283619  0.202427  1.401091  0.161718\n",
      "4        5     0.008805  0.206442  0.042649  0.965996\n"
     ]
    }
   ],
   "source": [
    "import warnings\n",
    "warnings.filterwarnings('ignore', category=FutureWarning)  # In the future,  empty or all-NA columns will no longer be automatically excluded by pandas. I suppressed this because I'm sure about the integrity of my data.\n",
    "\n",
    "results = pd.DataFrame(columns=['Quintile', 'Coefficient', 'Std Err', 't', 'P>|t|'])\n",
    "\n",
    "for quintile in range(1, 6):\n",
    "    # Filter the data and use a copy to avoid SettingWithCopyWarning in VSCode\n",
    "    data_quintile = merged_df[merged_df['income_quintile'] == quintile].copy()\n",
    "    data_quintile['treatment_post'] = data_quintile['treatment'] * data_quintile['post']\n",
    "    \n",
    "    # Model variables\n",
    "    X_did = sm.add_constant(data_quintile[['treatment', 'post', 'treatment_post', 'income_w2']])\n",
    "    y_did = data_quintile['log_payday_loan']\n",
    "    \n",
    "    model_did = sm.OLS(y_did, X_did).fit()\n",
    "    \n",
    "    # Results for the interaction term\n",
    "    interaction_details = {\n",
    "        'Coefficient': model_did.params['treatment_post'],\n",
    "        'Std Err': model_did.bse['treatment_post'],\n",
    "        't': model_did.tvalues['treatment_post'],\n",
    "        'P>|t|': model_did.pvalues['treatment_post']\n",
    "    }\n",
    "    \n",
    "    # Add the results for this quintile to the DataFrame\n",
    "    results_row = pd.DataFrame({\n",
    "        'Quintile': [quintile],\n",
    "        'Coefficient': [interaction_details['Coefficient']],\n",
    "        'Std Err': [interaction_details['Std Err']],\n",
    "        't': [interaction_details['t']],\n",
    "        'P>|t|': [interaction_details['P>|t|']]\n",
    "    })\n",
    "\n",
    "    # Use 'concat()' to add rows\n",
    "    results = pd.concat([results, results_row], ignore_index=True)\n",
    "\n",
    "print(results)\n"
   ]
  },
  {
   "cell_type": "markdown",
   "metadata": {},
   "source": [
    "**Paragraph 1:**\n",
    "The variable 'index' is a good instrument for Task 10 because it marks the period before and after legislative changes, providing a clear, quantitative measure of regulations over time. Because it tracks granularly, in Task 10 - when we assess how changes in the regulation of debt collection impact consumer decisions regarding payday loans - it allows us to isolate the effects of the legislation from other variables. Then, we can determine the true impact of regulatory changes.\n",
    "\n",
    "**Paragraph 2:**\n",
    "The results from the DID and 2SLS analyses show that while stricter debt collection laws are intended to benefit consumers, they resulted in an increase in payday loans. This protects consumers from one form of financial stress (aggressive debt collection), but it pushes them towards other risky financial behaviors like payday loans (which have high interest rates and can contribute to more debt). Thus, although the regulations are meant to protect consumers, they may result in negative consequences."
   ]
  },
  {
   "cell_type": "markdown",
   "metadata": {},
   "source": []
  }
 ],
 "metadata": {
  "kernelspec": {
   "display_name": "Python 3",
   "language": "python",
   "name": "python3"
  },
  "language_info": {
   "codemirror_mode": {
    "name": "ipython",
    "version": 3
   },
   "file_extension": ".py",
   "mimetype": "text/x-python",
   "name": "python",
   "nbconvert_exporter": "python",
   "pygments_lexer": "ipython3",
   "version": "3.11.3"
  }
 },
 "nbformat": 4,
 "nbformat_minor": 2
}
